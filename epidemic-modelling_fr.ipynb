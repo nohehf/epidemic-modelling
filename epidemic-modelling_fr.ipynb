{
 "cells": [
  {
   "cell_type": "markdown",
   "id": "varied-wilson",
   "metadata": {},
   "source": [
    "# Modélisation via Python\n",
    "## Résolution numérique du problème\n",
    "#### 1. Simulation de l'évolution d'une épidémie par le modèle SIR\n",
    "On commence par importer les librairies python que nous utiliserons plus tard..."
   ]
  },
  {
   "cell_type": "code",
   "execution_count": 1,
   "id": "italian-conducting",
   "metadata": {},
   "outputs": [],
   "source": [
    "import numpy as np\n",
    "import matplotlib.pyplot as plt\n",
    "import ipywidgets as widgets"
   ]
  },
  {
   "cell_type": "markdown",
   "id": "viral-cheat",
   "metadata": {},
   "source": [
    "#### Etude numérique de la méthode d'Euler :\n",
    "Définition de euler() :"
   ]
  },
  {
   "cell_type": "code",
   "execution_count": 2,
   "id": "prostate-chaos",
   "metadata": {},
   "outputs": [],
   "source": [
    "def euler(f,y0,t0,T,n):\n",
    "    t = np.zeros(n)\n",
    "    y = np.zeros(n)\n",
    "    y[0] = y0\n",
    "    t[0] = t0\n",
    "    h = (T-t0)/n\n",
    "    for k in (range(n-1)):\n",
    "        t[k+1] = t[k] + h\n",
    "        y[k+1] = y[k] + h*f(y[k],t[k])\n",
    "    return y"
   ]
  },
  {
   "cell_type": "markdown",
   "id": "civil-forth",
   "metadata": {},
   "source": [
    "Définition de compare() :"
   ]
  },
  {
   "cell_type": "code",
   "execution_count": 3,
   "id": "technological-cheat",
   "metadata": {},
   "outputs": [],
   "source": [
    "def compare(y_euler,f_true,t0,T,n):\n",
    "    fig = plt.figure() #fig non utilisée??\n",
    "    t_euler = np.linspace(t0,T,n)\n",
    "    t_true = np.linspace(t0,T,(T-t0)*100)\n",
    "    y_true = f_true(t_true) #would be better to plot the real function instead of many points\n",
    "    plt.plot(t_euler,y_euler,'b.-',t_true,y_true,'r-')\n",
    "    plt.title(\"Comparaison de courbes\")\n",
    "    plt.show()"
   ]
  },
  {
   "cell_type": "markdown",
   "id": "informational-coffee",
   "metadata": {},
   "source": [
    "On run compare() :"
   ]
  },
  {
   "cell_type": "code",
   "execution_count": 4,
   "id": "realistic-trance",
   "metadata": {},
   "outputs": [
    {
     "data": {
      "image/png": "[encoded data removed]",
      "text/plain": [
       "<Figure size 432x288 with 1 Axes>"
      ]
     },
     "metadata": {
      "needs_background": "light"
     },
     "output_type": "display_data"
    }
   ],
   "source": [
    "    f = lambda y,t : -2*y\n",
    "    y0 = 1\n",
    "    t0 = 0\n",
    "    T = 10\n",
    "    n = 100\n",
    "\n",
    "    y_euler = euler(f,y0,t0,T,n)\n",
    "\n",
    "    f_true = lambda t : np.exp(-2*t)\n",
    "\n",
    "    compare(y_euler,f_true,t0,T,n)"
   ]
  },
  {
   "cell_type": "markdown",
   "id": "aging-ocean",
   "metadata": {},
   "source": [
    "#### On modélise maintenant une épidémie à l'aide d'un modèle SIR : \n",
    "On commence par mettre sous forme de fonction les équations différentielles partielles présentées plus tôt :"
   ]
  },
  {
   "cell_type": "code",
   "execution_count": 5,
   "id": "uniform-income",
   "metadata": {},
   "outputs": [],
   "source": [
    "def f(y,beta,lambd):\n",
    "    (S,I,R) = y[:,0]\n",
    "    x = np.array([[-beta*I*S], [beta*I*S - I/lambd], [I/lambd]])\n",
    "    return x"
   ]
  },
  {
   "cell_type": "markdown",
   "id": "located-buyer",
   "metadata": {},
   "source": [
    "On affiche les différentes fonctions à l'aide de matplot :"
   ]
  },
  {
   "cell_type": "code",
   "execution_count": 6,
   "id": "unknown-intranet",
   "metadata": {},
   "outputs": [
    {
     "data": {
      "application/vnd.jupyter.widget-view+json": {
       "model_id": "2b6bf267bb87484399fe50f9c52c95e3",
       "version_major": 2,
       "version_minor": 0
      },
      "text/plain": [
       "interactive(children=(Dropdown(description='methode', options=('Euler', 'Euler modifiée', \"Runge-Kutta d'ordre…"
      ]
     },
     "metadata": {},
     "output_type": "display_data"
    }
   ],
   "source": [
    "\n",
    "\n",
    "def schema_num(methode,I0,t0,T,n,beta,Lambda,S_state,I_state,R_state):\n",
    "    \"\"\" Programme renvoyant une matrice comprenant les valeurs itérées de S, I et R \n",
    "    selon la méthode choisie, pour t allant de t0 à T\"\"\"\n",
    "    h = (T-t0)/n\n",
    "    liste = np.array([[1.0-I0],[I0],[0]])\n",
    "    y = np.array([[1.0-I0],[I0],[0]])\n",
    "\n",
    "    \n",
    "    for k in range(n-1):\n",
    "        if methode == \"Euler\":\n",
    "            y = y + h*f(y,beta,Lambda)\n",
    "        if methode == \"Euler modifiée\":\n",
    "            y = y + h*f(y+h/2*f(y,beta,Lambda),beta,Lambda)\n",
    "        if methode == \"Runge-Kutta d'ordre 2\":\n",
    "            y = y + h/2*(f(y,beta,Lambda)+f(y+h*f(y,beta,Lambda),beta,Lambda))\n",
    "        if methode == \"Runge-Kutta d'ordre 4\":\n",
    "            k1 = f(y,beta,Lambda)\n",
    "            k2 = f(y + h/2*k1,beta,Lambda)\n",
    "            k3 = f(y + h/2*k2,beta,Lambda)\n",
    "            k4 = f(y + h*k3,beta,Lambda)\n",
    "            y = y + h/6*(k1+2*k2+2*k3+k4)\n",
    "        liste = np.append(liste,y,1)\n",
    "    t = np.linspace(t0,T,n)\n",
    "    plt.figure(figsize=(12, 7))\n",
    "    plt.xlim(xmin=0,xmax=T)\n",
    "    if S_state:\n",
    "        plt.plot(t, liste[0], label='S')\n",
    "    if I_state:\n",
    "        plt.plot(t, liste[1], label='I')\n",
    "    if R_state:\n",
    "        plt.plot(t, liste[2], label='R')\n",
    "    plt.title(\"Tracé du modèle SIR grâce à la méthode \"+methode ,fontsize=16)\n",
    "    plt.legend()\n",
    "    plt.show()\n",
    "\n",
    "widgets.interact(schema_num, Lambda = widgets.FloatSlider(value=5.0,min=0.1,max=10.0,step=0.1),beta = widgets.FloatSlider(value=1.0,min=0.1,max=10.0,step=0.1), I0 = widgets.FloatSlider(value=0.1,min=0.0,max=1.0,step=0.01), n=widgets.IntSlider(value=200,min=20,max=1000,step=10),methode = ['Euler','Euler modifiée',\"Runge-Kutta d'ordre 2\",\"Runge-Kutta d'ordre 4\"],t0=widgets.fixed(0),T=widgets.IntSlider(value=50,min=10,max=500,step=10),S_state = widgets.Checkbox(value=True,description='S'),I_state = widgets.Checkbox(value=True,description='I'),R_state = widgets.Checkbox(value=True,description='R'));"
   ]
  },
  {
   "cell_type": "markdown",
   "id": "corresponding-offer",
   "metadata": {},
   "source": [
    "#### Simulation réaliste qualitative :"
   ]
  },
  {
   "cell_type": "code",
   "execution_count": 12,
   "id": "straight-greece",
   "metadata": {},
   "outputs": [
    {
     "data": {
      "image/png": "[encoded data removed]",
      "text/plain": [
       "<Figure size 432x288 with 1 Axes>"
      ]
     },
     "metadata": {
      "needs_background": "light"
     },
     "output_type": "display_data"
    }
   ],
   "source": [
    "import numpy as np\n",
    "import matplotlib.pyplot as plt\n",
    "import random\n",
    "from PIL import Image, ImageDraw\n",
    "import matplotlib.image as mpimg\n",
    "\n",
    "CONTAGION = 0.1 #10% of chances to infect adjacent cell\n",
    "RECOVER = 0.1 #10% chance to recover\n",
    "\n",
    "def decision(probability): #returns boolean probabilistically based\n",
    "    return random.random() < probability\n",
    "\n",
    "class Cell:\n",
    "    def __init__(self,line, column, state):\n",
    "        self.line = line\n",
    "        self.column = column\n",
    "        self.state = state #state 0: Susceptible, 1: Infectious, 2: Recoverd (SIR MODEL)\n",
    "\n",
    "    def tick(self):\n",
    "        print('cell at pos ' + str(self.line) + ',' + str(self.column) + ' Ticked !')\n",
    "        if self.state == 1:\n",
    "            self.infect()\n",
    "            self.recover()\n",
    "        return\n",
    "    \n",
    "    def infect(self):\n",
    "        self.state = 1\n",
    "        return\n",
    "    \n",
    "    def recover(self):\n",
    "        self.state = 2\n",
    "        return\n",
    "\n",
    "\n",
    "class CellMap:\n",
    "    def __init__(self,lines,columns):\n",
    "        self.SIR = [0,0,0]\n",
    "        self.createMap(lines,columns)\n",
    "        self.lines = lines\n",
    "        self.columns = columns\n",
    "\n",
    "\n",
    "    \n",
    "    def createMap(self,lines,columns):\n",
    "        array = np.zeros((lines,columns))\n",
    "        array = array.astype('object_') #allows to store any object, not only floats\n",
    "        printableArray = np.zeros((lines,columns))\n",
    "    \n",
    "        for l in range(array.shape[0]):\n",
    "            for c in range(array.shape[1]):\n",
    "                array[l,c] = Cell(l,c,0)\n",
    "                printableArray[l,c] = 0\n",
    "        \n",
    "        self.cellArray = array.copy()\n",
    "        self.printableArray = printableArray.copy()\n",
    "        self.SIR[0] = self.cellArray.shape[0]*self.cellArray.shape[1]\n",
    "\n",
    "\n",
    "    def tick(self):\n",
    "        nextCellArray = self.cellArray.copy()\n",
    "        for l in range(self.cellArray.shape[0]):\n",
    "            for c in range(self.cellArray.shape[1]):\n",
    "                \n",
    "                cell = self.cellArray[l,c]\n",
    "                if cell.state == 1:\n",
    "                    # print(str(l) + ',' + str(c))\n",
    "                    for lAdjacent,cAdjacent in self.AdjacentCells(l,c):\n",
    "                        # print(str(lAdjacent) + ',' + str(cAdjacent))\n",
    "                        if decision(CONTAGION):\n",
    "                            self.infectCell(lAdjacent,cAdjacent,nextCellArray)\n",
    "\n",
    "                    if decision(RECOVER): #at term we will need to implement it as a normal map\n",
    "                        self.recoverCell(l,c,nextCellArray)\n",
    "        # print(self.SIR)\n",
    "\n",
    "        \n",
    "        self.cellArray = nextCellArray.copy()\n",
    "\n",
    "    def infectCell(self,l,c,cellArray = None):\n",
    "        if cellArray is None:\n",
    "            cellArray = self.cellArray\n",
    "        \n",
    "        if cellArray[l,c].state ==0:\n",
    "            cellArray[l,c].infect()\n",
    "            self.printableArray[l,c] = 1  \n",
    "            self.SIR[0] -= 1\n",
    "            self.SIR[1] += 1        \n",
    "\n",
    "    def recoverCell(self,l,c,cellArray = None):\n",
    "        if cellArray is None:\n",
    "            cellArray = self.cellArray\n",
    "        cellArray[l,c].recover()\n",
    "        self.printableArray[l,c] = 2    \n",
    "        self.SIR[1] -= 1\n",
    "        self.SIR[2] += 1                   \n",
    "\n",
    "    def AdjacentCells(self,l,c):\n",
    "        adjacentCells = []\n",
    "        for lOffset in range(-1,2):\n",
    "            for cOffset in range(-1,2):\n",
    "                if l + lOffset in range(self.lines) and c + cOffset in range(self.columns) and (l + lOffset != l or c + cOffset != c):\n",
    "                    adjacentCells.append((l+lOffset,c+cOffset))\n",
    "        # adjacentCells = [(l-1,c-1),(l-1,c),(l-1,c+1),(l,c-1),(l,c+1),(l+1,c-1),(l+1,c),(l+1,c+1)]\n",
    "        \n",
    "        # print(adjacentCells)\n",
    "        return adjacentCells\n",
    "    \n",
    "    def placeInitialInfected(self,numberOfInitialInfected):\n",
    "        for i in range(numberOfInitialInfected):\n",
    "            l = random.randrange(self.lines)\n",
    "            c = random.randrange(self.columns)\n",
    "            self.infectCell(l,c)\n",
    "\n",
    "\n",
    "\n",
    "\n",
    "class Simulation:\n",
    "    def __init__(self,cellMap):\n",
    "        self.cellMap = cellMap\n",
    "        self.steps = [[],[],[],[]] #each simulation steps [printableMatrixList],[SList],[IList],[RList]\n",
    "        \n",
    "        \n",
    "\n",
    "    def plot(self):\n",
    "        t = np.linspace(0,self.numberOfTicks +1 ,self.numberOfTicks +1)\n",
    "\n",
    "        SList = self.steps[1]\n",
    "        IList = self.steps[2]\n",
    "        RList = self.steps[3]\n",
    "\n",
    "        S = plt.plot(t, SList, label='S')\n",
    "        I = plt.plot(t, IList, label='I')\n",
    "        R = plt.plot(t, RList, label='R')\n",
    "        plt.show()\n",
    "        return\n",
    "    \n",
    "    def run(self,numberOfTicks):\n",
    "        self.numberOfTicks = numberOfTicks\n",
    "        self.steps[0].append(self.cellMap.printableArray.copy())\n",
    "        self.steps[1].append(self.cellMap.SIR[0])\n",
    "        self.steps[2].append(self.cellMap.SIR[1])\n",
    "        self.steps[3].append(self.cellMap.SIR[2])\n",
    "        for i in range(numberOfTicks):\n",
    "            self.cellMap.tick()\n",
    "            self.steps[0].append(self.cellMap.printableArray.copy())\n",
    "            self.steps[1].append(self.cellMap.SIR[0])\n",
    "            self.steps[2].append(self.cellMap.SIR[1])\n",
    "            self.steps[3].append(self.cellMap.SIR[2])\n",
    "        return\n",
    "\n",
    "    def generateGIF(self):\n",
    "        images = []\n",
    "\n",
    "        width = 1000\n",
    "        cellWidth = width // self.cellMap.lines\n",
    "\n",
    "        def drawImage(printableCellArray):\n",
    "            im = Image.new('RGB',(width,width))\n",
    "            draw = ImageDraw.Draw(im)\n",
    "            for l in range(printableCellArray.shape[0]):\n",
    "                for c in range(printableCellArray.shape[1]):\n",
    "                    color = 'black'\n",
    "                    if printableCellArray[l,c] == 0:\n",
    "                        color = 'green'\n",
    "                    elif printableCellArray[l,c] == 1:\n",
    "                        color = 'red'\n",
    "                    elif printableCellArray[l,c] == 2:\n",
    "                        color = 'yellow'\n",
    "                    # draw.rectangle([cellWidth*(printableCellArray.shape[0] - l),cellWidth*c,cellWidth*(printableCellArray.shape[0] - l + 1),cellWidth*(c + 1)],color,'black',width=2)\n",
    "                    draw.rectangle([cellWidth*c,cellWidth*(printableCellArray.shape[0] - l - 1),cellWidth*(c + 1),cellWidth*(printableCellArray.shape[0] - l)],color,'black',width=1)\n",
    "            images.append(im)\n",
    "\n",
    "        for step in self.steps[0]:\n",
    "            drawImage(step)\n",
    "\n",
    "        images[0].save('cells.gif',save_all=True, append_images=images[1:], optimize=False, duration=200, loop=0)\n",
    "\n",
    "\n",
    "if __name__ =='__main__':\n",
    "    cellMap = CellMap(50,50) \n",
    "    cellMap.placeInitialInfected(2)\n",
    "    simulation = Simulation(cellMap)\n",
    "    simulation.run(100)\n",
    "    simulation.generateGIF()\n",
    "    simulation.plot()"
   ]
  },
  {
   "cell_type": "code",
   "execution_count": 13,
   "id": "analyzed-letters",
   "metadata": {},
   "outputs": [
    {
     "data": {
      "text/html": [
       "<img src=\"cells.gif\">"
      ],
      "text/plain": [
       "<IPython.core.display.HTML object>"
      ]
     },
     "execution_count": 13,
     "metadata": {},
     "output_type": "execute_result"
    }
   ],
   "source": [
    "from IPython.display import HTML\n",
    "HTML('<img src=\"cells.gif\">')"
   ]
  },
  {
   "cell_type": "code",
   "execution_count": null,
   "id": "parallel-creek",
   "metadata": {},
   "outputs": [],
   "source": []
  }
 ],
 "metadata": {
  "kernelspec": {
   "display_name": "Python 3",
   "language": "python",
   "name": "python3"
  },
  "language_info": {
   "codemirror_mode": {
    "name": "ipython",
    "version": 3
   },
   "file_extension": ".py",
   "mimetype": "text/x-python",
   "name": "python",
   "nbconvert_exporter": "python",
   "pygments_lexer": "ipython3",
   "version": "3.9.0"
  }
 },
 "nbformat": 4,
 "nbformat_minor": 5
}
